{
 "cells": [
  {
   "cell_type": "markdown",
   "metadata": {
    "colab_type": "text",
    "id": "THQFNe3zdt1f"
   },
   "source": [
    "# Assessed Coursework Template Notebook\n",
    "\n",
    "This is the template notebook for the RecSys(H) 2020 coursework. It deals with data preparation and evaluation only.\n",
    "\n",
    "Please note:\n",
    " - use H1 text headings for grouping together blocks of cells. You can then hide these while working on other blocks\n",
    " - leave the cell output visible when you submit the notebook\n",
    "\n"
   ]
  },
  {
   "cell_type": "markdown",
   "metadata": {
    "colab_type": "text",
    "id": "Ww--_kl9-ndn"
   },
   "source": [
    "## Setup block\n",
    "\n",
    "Setup the data files, Python etc."
   ]
  },
  {
   "cell_type": "code",
   "execution_count": 0,
   "metadata": {
    "colab": {
     "base_uri": "https://localhost:8080/",
     "height": 221
    },
    "colab_type": "code",
    "id": "iFgYpbhh0tkX",
    "outputId": "2d57fa0b-4d66-4abc-a15f-1d5b61b7e7b8"
   },
   "outputs": [
    {
     "name": "stdout",
     "output_type": "stream",
     "text": [
      "  % Total    % Received % Xferd  Average Speed   Time    Time     Time  Current\n",
      "                                 Dload  Upload   Total   Spent    Left  Speed\n",
      "100 7631k  100 7631k    0     0  1750k      0  0:00:04  0:00:04 --:--:-- 1981k\n",
      "  % Total    % Received % Xferd  Average Speed   Time    Time     Time  Current\n",
      "                                 Dload  Upload   Total   Spent    Left  Speed\n",
      "100 2366k  100 2366k    0     0  1009k      0  0:00:02  0:00:02 --:--:-- 1009k\n",
      "  % Total    % Received % Xferd  Average Speed   Time    Time     Time  Current\n",
      "                                 Dload  Upload   Total   Spent    Left  Speed\n",
      "100 7581k  100 7581k    0     0  2651k      0  0:00:02  0:00:02 --:--:-- 2650k\n",
      "  % Total    % Received % Xferd  Average Speed   Time    Time     Time  Current\n",
      "                                 Dload  Upload   Total   Spent    Left  Speed\n",
      "100 1895k  100 1895k    0     0   812k      0  0:00:02  0:00:02 --:--:--  812k\n"
     ]
    }
   ],
   "source": [
    "!rm -rf ratings* books* to_read* test*\n",
    "\n",
    "!curl -o ratings.csv \"http://www.dcs.gla.ac.uk/~craigm/recsysH/coursework/final-ratings.csv\" \n",
    "!curl -o books.csv \"http://www.dcs.gla.ac.uk/~craigm/recsysH/coursework/final-books.csv\"\n",
    "!curl -o to_read.csv \"http://www.dcs.gla.ac.uk/~craigm/recsysH/coursework/final-to_read.csv\"\n",
    "!curl -o test.csv \"http://www.dcs.gla.ac.uk/~craigm/recsysH/coursework/final-test.csv\""
   ]
  },
  {
   "cell_type": "code",
   "execution_count": 0,
   "metadata": {
    "colab": {
     "base_uri": "https://localhost:8080/",
     "height": 204
    },
    "colab_type": "code",
    "id": "1VpVnNrZ1EiX",
    "outputId": "78b29571-12b5-4fed-a8e5-0cc57e1294f5"
   },
   "outputs": [
    {
     "name": "stdout",
     "output_type": "stream",
     "text": [
      "Collecting spotlight\n",
      "  Cloning https://github.com/cmacdonald/spotlight.git (to revision master) to /tmp/pip-install-13x52_6t/spotlight\n",
      "  Running command git clone -q https://github.com/cmacdonald/spotlight.git /tmp/pip-install-13x52_6t/spotlight\n",
      "Requirement already satisfied: torch>=0.4.0 in /usr/local/lib/python3.6/dist-packages (from spotlight) (1.4.0)\n",
      "Building wheels for collected packages: spotlight\n",
      "  Building wheel for spotlight (setup.py) ... \u001b[?25l\u001b[?25hdone\n",
      "  Created wheel for spotlight: filename=spotlight-0.1.6-cp36-none-any.whl size=34096 sha256=6010811bc8dc7103749d0c4297834effbff23f3e0b939c82e7cc77f150c77388\n",
      "  Stored in directory: /tmp/pip-ephem-wheel-cache-bq2q8nw0/wheels/22/6f/f1/68cc6c5b563e78737e4a8fed63ddc105a3baf25d2abccae0c6\n",
      "Successfully built spotlight\n",
      "Installing collected packages: spotlight\n",
      "Successfully installed spotlight-0.1.6\n"
     ]
    }
   ],
   "source": [
    "#Standard setup\n",
    "import pandas as pd\n",
    "import numpy as np\n",
    "import torch\n",
    "!pip install git+https://github.com/cmacdonald/spotlight.git@master#egg=spotlight\n",
    "from spotlight.interactions import Interactions\n"
   ]
  },
  {
   "cell_type": "markdown",
   "metadata": {
    "colab_type": "text",
    "id": "RtJO0e0m-hun"
   },
   "source": [
    "# data preparation"
   ]
  },
  {
   "cell_type": "code",
   "execution_count": 0,
   "metadata": {
    "colab": {},
    "colab_type": "code",
    "id": "qKAb25iw1MYw"
   },
   "outputs": [],
   "source": [
    "#load in the csv files\n",
    "ratings_df = pd.read_csv(\"ratings.csv\")\n",
    "books_df = pd.read_csv(\"books.csv\")\n",
    "to_read_df = pd.read_csv(\"to_read.csv\")\n",
    "test = pd.read_csv(\"test.csv\")\n",
    "# print(ratings_df)\n",
    "# print(books_df)"
   ]
  },
  {
   "cell_type": "code",
   "execution_count": 0,
   "metadata": {
    "colab": {},
    "colab_type": "code",
    "id": "W6rqfn53OhDC"
   },
   "outputs": [],
   "source": [
    "#cut down the number of items and users\n",
    "counts=ratings_df[ratings_df[\"book_id\"] < 2000].groupby([\"book_id\"]).count().reset_index()\n",
    "valid_books=counts[counts[\"user_id\"] >= 10][[\"book_id\"]]\n",
    "\n",
    "books_df = books_df.merge(valid_books, on=\"book_id\")\n",
    "\n",
    "ratings_df = ratings_df[ratings_df[\"user_id\"] < 2000].merge(valid_books, on=\"book_id\")\n",
    "to_read_df = to_read_df[to_read_df[\"user_id\"] < 2000].merge(valid_books, on=\"book_id\")\n",
    "test = test[test[\"user_id\"] < 2000].merge(valid_books, on=\"book_id\")\n",
    "\n"
   ]
  },
  {
   "cell_type": "markdown",
   "metadata": {
    "colab_type": "text",
    "id": "C7cgXhmYUXIn"
   },
   "source": [
    "Here we construct the Interactions objects from `ratings.csv`, `to_read.csv` and `test.csv`. We manually specify the num_users and num_items parameters to all Interaction objects, in case the test set differs from your training sets."
   ]
  },
  {
   "cell_type": "code",
   "execution_count": 0,
   "metadata": {
    "colab": {
     "base_uri": "https://localhost:8080/",
     "height": 68
    },
    "colab_type": "code",
    "id": "15ClgJOdTTt1",
    "outputId": "de429f84-a4d6-473a-90fa-a1d5f3843262"
   },
   "outputs": [
    {
     "name": "stdout",
     "output_type": "stream",
     "text": [
      "<Interactions dataset (1999 users x 1826 items x 124762 interactions)>\n",
      "<Interactions dataset (1999 users x 1826 items x 135615 interactions)>\n",
      "<Interactions dataset (1999 users x 1826 items x 33917 interactions)>\n"
     ]
    }
   ],
   "source": [
    "from collections import defaultdict\n",
    "from itertools import count\n",
    "\n",
    "from spotlight.cross_validation import random_train_test_split\n",
    "\n",
    "iid_map = defaultdict(count().__next__)\n",
    "\n",
    "\n",
    "rating_iids = np.array([iid_map[iid] for iid in ratings_df[\"book_id\"].values], dtype = np.int32)\n",
    "test_iids = np.array([iid_map[iid] for iid in test[\"book_id\"].values], dtype = np.int32)\n",
    "toread_iids = np.array([iid_map[iid] for iid in to_read_df[\"book_id\"].values], dtype = np.int32)\n",
    "\n",
    "\n",
    "uid_map = defaultdict(count().__next__)\n",
    "test_uids = np.array([uid_map[uid] for uid in test[\"user_id\"].values], dtype = np.int32)\n",
    "rating_uids = np.array([uid_map[uid] for uid in ratings_df[\"user_id\"].values], dtype = np.int32)\n",
    "toread_uids = np.array([uid_map[iid] for iid in to_read_df[\"user_id\"].values], dtype = np.int32)\n",
    "\n",
    "\n",
    "uid_rev_map = {v: k for k, v in uid_map.items()}\n",
    "iid_rev_map = {v: k for k, v in iid_map.items()}\n",
    "\n",
    "\n",
    "rating_dataset = Interactions(user_ids=rating_uids,\n",
    "                               item_ids=rating_iids,\n",
    "                               ratings=ratings_df[\"rating\"].values,\n",
    "                               num_users=len(uid_rev_map),\n",
    "                               num_items=len(iid_rev_map))\n",
    "\n",
    "toread_dataset = Interactions(user_ids=toread_uids,\n",
    "                               item_ids=toread_iids,\n",
    "                               num_users=len(uid_rev_map),\n",
    "                               num_items=len(iid_rev_map))\n",
    "\n",
    "test_dataset = Interactions(user_ids=test_uids,\n",
    "                               item_ids=test_iids,\n",
    "                               num_users=len(uid_rev_map),\n",
    "                               num_items=len(iid_rev_map))\n",
    "\n",
    "print(rating_dataset)\n",
    "print(toread_dataset)\n",
    "print(test_dataset)\n",
    "\n",
    "#here we define the validation set\n",
    "rating_dataset_train, explict_validation = random_train_test_split(rating_dataset, random_state=np.random.RandomState(42))\n",
    "toread_dataset_train, validation = random_train_test_split(toread_dataset, random_state=np.random.RandomState(42))\n",
    "\n",
    "num_items = test_dataset.num_items\n",
    "num_users = test_dataset.num_users"
   ]
  },
  {
   "cell_type": "markdown",
   "metadata": {
    "colab_type": "text",
    "id": "Kt4I2C5DTUL5"
   },
   "source": [
    "#Example code\n",
    "\n",
    "To evaluate soem of your hand-implemented recommender systems (e.g. Q1, Q4), you will need to instantiate objects that match the specification of a Spotlight model, which `mrr_score()` expects.\n",
    "\n",
    "\n",
    "Here is an example recommender object that returns 0 for each item, regardless of user."
   ]
  },
  {
   "cell_type": "code",
   "execution_count": 0,
   "metadata": {
    "colab": {
     "base_uri": "https://localhost:8080/",
     "height": 34
    },
    "colab_type": "code",
    "id": "s2eaxy_hakbC",
    "outputId": "5b23ce82-c733-4b7b-8527-fade51ee37ab"
   },
   "outputs": [
    {
     "name": "stdout",
     "output_type": "stream",
     "text": [
      "0.0\n"
     ]
    }
   ],
   "source": [
    "from spotlight.evaluation import mrr_score\n",
    "\n",
    "\n",
    "class dummymodel:\n",
    "  \n",
    "  def __init__(self, numitems):\n",
    "    self.predictions=np.zeros(numitems)\n",
    "  \n",
    "  #uid is the user we are requesting recommendations for;\n",
    "  #returns an array of scores, one for each item\n",
    "  def predict(self, uid):\n",
    "    #this model returns all zeros, regardless of userid\n",
    "    return( self.predictions )\n",
    "\n",
    "#lets evaluate how the effeciveness of dummymodel\n",
    "\n",
    "print(mrr_score(dummymodel(num_items), test_dataset, train=rating_dataset, k=100).mean())\n",
    "#as expected, a recommendation model that gives 0 scores for all items obtains a MRR score of 0\n",
    "\n"
   ]
  },
  {
   "cell_type": "code",
   "execution_count": 0,
   "metadata": {
    "colab": {
     "base_uri": "https://localhost:8080/",
     "height": 51
    },
    "colab_type": "code",
    "id": "ZQTJOmS5dB3i",
    "outputId": "4768e088-d22c-4a3e-f4d0-8926f8bc88bf"
   },
   "outputs": [
    {
     "name": "stderr",
     "output_type": "stream",
     "text": [
      "1999it [00:00, 2945.03it/s]"
     ]
    },
    {
     "name": "stdout",
     "output_type": "stream",
     "text": [
      "0.0\n"
     ]
    },
    {
     "name": "stderr",
     "output_type": "stream",
     "text": [
      "\n"
     ]
    }
   ],
   "source": [
    "\n",
    "#note that the latest copy of Craig's Spotlight displays a progress bar if you set verbose=True\n",
    "print(mrr_score(dummymodel(num_items), test_dataset, train=rating_dataset, k=100, verbose=True).mean())\n"
   ]
  },
  {
   "cell_type": "markdown",
   "metadata": {
    "colab_type": "text",
    "id": "SyvGgW_3ZjLV"
   },
   "source": [
    "#Q1\n",
    "\n"
   ]
  },
  {
   "cell_type": "code",
   "execution_count": 0,
   "metadata": {
    "colab": {},
    "colab_type": "code",
    "id": "Ag4mKqdckb6J"
   },
   "outputs": [],
   "source": [
    "# baseline statistic data calculation\n",
    "nonper_rec1 = ratings_df[[\"book_id\", \"rating\"]].groupby([\"book_id\"]).mean().sort_values(by=['rating'], ascending=False)\n",
    "nonper_rec2 = books_df[[\"book_id\",\"ratings_count\"]].groupby([\"book_id\"]).sum().sort_values(by=['ratings_count'], ascending=False)\n",
    "nonper_rec3 = books_df[[\"book_id\",\"ratings_5\"]].groupby([\"book_id\"]).sum().sort_values(by=['ratings_5'], ascending=False)\n",
    "nonper_rec4 = nonper_rec2.merge(nonper_rec3,how='left',on='book_id').reset_index()\n",
    "nonper_rec4['fraction'] = nonper_rec4['ratings_5'] / nonper_rec4['ratings_count']\n",
    "nonper_rec4 = nonper_rec4.drop(columns=['ratings_count','ratings_5']).groupby([\"book_id\"]).sum().sort_values(by=['fraction'], ascending=False)\n",
    "\n",
    "class baselinemodel1:\n",
    "  def __init__(self, numitems):\n",
    "    self.predictions = nonper_rec1[0: numitems]\n",
    "  def predict(self, uid):\n",
    "    return( self.predictions )\n",
    "\n",
    "class baselinemodel2:\n",
    "  def __init__(self, numitems):\n",
    "    self.predictions = nonper_rec2[0: numitems]\n",
    "  def predict(self, uid):\n",
    "    return( self.predictions )\n",
    "\n",
    "class baselinemodel3:\n",
    "  def __init__(self, numitems):\n",
    "    self.predictions = nonper_rec3[0: numitems]\n",
    "  def predict(self, uid):\n",
    "    return( self.predictions )\n",
    "\n",
    "class baselinemodel4:\n",
    "  def __init__(self, numitems):\n",
    "    self.predictions = nonper_rec4[0: numitems]\n",
    "  def predict(self, uid):\n",
    "    return( self.predictions )"
   ]
  },
  {
   "cell_type": "code",
   "execution_count": 147,
   "metadata": {
    "colab": {
     "base_uri": "https://localhost:8080/",
     "height": 85
    },
    "colab_type": "code",
    "id": "qe5jqJbUqePV",
    "outputId": "161cf958-bbfa-41ca-8fa9-14d418ad8a09"
   },
   "outputs": [
    {
     "name": "stdout",
     "output_type": "stream",
     "text": [
      "MRR Score for this baseline model(Average rating): 0.058408405883614074\n",
      "MRR Score for this baseline model(Number of ratings): 0.06928067208207278\n",
      "MRR Score for this baseline model(Number of 5* ratings): 0.06928067208207278\n",
      "MRR Score for this baseline model(Fraction of 5* ratings): 0.06928067208207278\n"
     ]
    }
   ],
   "source": [
    "print(\"MRR Score for this baseline model(Average rating):\",mrr_score(baselinemodel1(num_items), test_dataset).mean())\n",
    "print(\"MRR Score for this baseline model(Number of ratings):\",mrr_score(baselinemodel2(num_items), test_dataset).mean())\n",
    "print(\"MRR Score for this baseline model(Number of 5* ratings):\",mrr_score(baselinemodel3(num_items), test_dataset).mean())\n",
    "print(\"MRR Score for this baseline model(Fraction of 5* ratings):\",mrr_score(baselinemodel4(num_items), test_dataset).mean())"
   ]
  },
  {
   "cell_type": "markdown",
   "metadata": {
    "colab_type": "text",
    "id": "AmlGvCEvn4t0"
   },
   "source": [
    "#Q2"
   ]
  },
  {
   "cell_type": "code",
   "execution_count": 0,
   "metadata": {
    "colab": {
     "base_uri": "https://localhost:8080/",
     "height": 306
    },
    "colab_type": "code",
    "id": "R3ovRK3OnvHs",
    "outputId": "983a6780-b8c7-4c3b-8aed-9b5797df19de"
   },
   "outputs": [
    {
     "name": "stdout",
     "output_type": "stream",
     "text": [
      "Training Explicit Factorization Model...\n",
      "Epoch 0: loss 4.5438603864266325\n",
      "Epoch 1: loss 0.8014215594682939\n",
      "Epoch 2: loss 0.6319218722673563\n",
      "Epoch 3: loss 0.4911799482810192\n",
      "Epoch 4: loss 0.3952183448351346\n",
      "MRR score tested on validation set:0.0332\n",
      "MRR score tested on test set:0.0444\n",
      "\n",
      "Training Implicit Factorization Model...\n",
      "Epoch 0: loss 0.3653127737916433\n",
      "Epoch 1: loss 0.21220756012659805\n",
      "Epoch 2: loss 0.17150749447636116\n",
      "Epoch 3: loss 0.15507851667129077\n",
      "Epoch 4: loss 0.14262114188227898\n",
      "MRR score tested on validation set:0.1903\n",
      "MRR score tested on test set:0.3652\n"
     ]
    }
   ],
   "source": [
    "from spotlight.factorization.explicit import ExplicitFactorizationModel\n",
    "from spotlight.factorization.implicit import ImplicitFactorizationModel\n",
    "from spotlight.evaluation import mrr_score\n",
    "\n",
    "# Split explict data, done in cell above\n",
    "rating_dataset_train, explict_validation = random_train_test_split(rating_dataset, random_state=np.random.RandomState(42))\n",
    "\n",
    "\n",
    "emodel = ExplicitFactorizationModel(n_iter=5,\n",
    "                                    embedding_dim=32, # after tuning this variable, best option is 32\n",
    "                                    use_cuda=False)\n",
    "\n",
    "print(\"Training Explicit Factorization Model...\")\n",
    "emodel.fit(rating_dataset_train, verbose=True)\n",
    "print(\"MRR score tested on validation set:%.4f\" % (mrr_score(emodel, explict_validation).mean()))\n",
    "print(\"MRR score tested on test set:%.4f\" % (mrr_score(emodel, test_dataset, train=rating_dataset).mean()))\n",
    "\n",
    "\n",
    "imodel_0 = ImplicitFactorizationModel(loss = 'bpr',\n",
    "                                    n_iter=5, \n",
    "                                    embedding_dim=16, # after tuning this variable, best option is 16\n",
    "                                    use_cuda=False)\n",
    "\n",
    "print(\"\\nTraining Implicit Factorization Model...\")\n",
    "imodel_0.fit(rating_dataset_train, verbose=True)\n",
    "print(\"MRR score tested on validation set:%.4f\" % (mrr_score(imodel_0, explict_validation).mean()))\n",
    "print(\"MRR score tested on test set:%.4f\" % (mrr_score(imodel_0, test_dataset, train=rating_dataset).mean()))"
   ]
  },
  {
   "cell_type": "markdown",
   "metadata": {
    "colab_type": "text",
    "id": "BpXMRqMQNbQj"
   },
   "source": [
    "#Q3"
   ]
  },
  {
   "cell_type": "code",
   "execution_count": 0,
   "metadata": {
    "colab": {
     "base_uri": "https://localhost:8080/",
     "height": 153
    },
    "colab_type": "code",
    "id": "XDeAtX0VNc1w",
    "outputId": "d7ad0311-8432-42c0-e9b6-d91c0acbfaa6"
   },
   "outputs": [
    {
     "name": "stdout",
     "output_type": "stream",
     "text": [
      "Training Implicit Factorization Model...\n",
      "Epoch 0: loss 0.36429820079707875\n",
      "Epoch 1: loss 0.21117266390542938\n",
      "Epoch 2: loss 0.1751345376888255\n",
      "Epoch 3: loss 0.15821403482893728\n",
      "Epoch 4: loss 0.14760528981053042\n",
      "MRR score tested on validation set:0.1850\n",
      "MRR score tested on test set:0.2206\n"
     ]
    }
   ],
   "source": [
    "imodel_3 = ImplicitFactorizationModel(loss = 'bpr',\n",
    "                                    n_iter=5, \n",
    "                                    embedding_dim=16, # after tuning this variable, best option is 16\n",
    "                                    use_cuda=False)\n",
    "\n",
    "print(\"Training Implicit Factorization Model...\")\n",
    "imodel_3.fit(toread_dataset_train, verbose=True)\n",
    "print(\"MRR score tested on validation set:%.4f\" % (mrr_score(imodel_3, validation).mean()))\n",
    "RRs = mrr_score(imodel_3, test_dataset)\n",
    "print(\"MRR score tested on test set:%.4f\" % (RRs.mean()))\n"
   ]
  },
  {
   "cell_type": "code",
   "execution_count": 152,
   "metadata": {
    "colab": {
     "base_uri": "https://localhost:8080/",
     "height": 833
    },
    "colab_type": "code",
    "id": "vRGSsshSTMTS",
    "outputId": "c243ee66-93c9-4492-f76e-4aadd75d3926"
   },
   "outputs": [
    {
     "name": "stdout",
     "output_type": "stream",
     "text": [
      "User with id 8 with RR 1.000000\n",
      "User with id 28 with RR 1.000000\n",
      "User with id 31 with RR 1.000000\n",
      "For user 8 ,His shelf got books shown below:\n",
      "    Unnamed: 0  user_id  book_id\n",
      "0          180        8      177\n",
      "1        39177        8       80\n",
      "2       230089        8       28\n",
      "3       144862        8      560\n",
      "4       230088        8      592\n",
      "..         ...      ...      ...\n",
      "58      144978        8      788\n",
      "59          57        8     1937\n",
      "60      230084        8      390\n",
      "61      144963        8      769\n",
      "62          60        8     1967\n",
      "\n",
      "[63 rows x 3 columns]\n",
      "For user 28 ,His shelf got books shown below:\n",
      "    Unnamed: 0  user_id  book_id\n",
      "0       131902       28        9\n",
      "1       369157       28        1\n",
      "2       297149       28      256\n",
      "3       134622       28       28\n",
      "4        46128       28      662\n",
      "..         ...      ...      ...\n",
      "77      131894       28      674\n",
      "78      334037       28     1344\n",
      "79      325984       28     1858\n",
      "80        6032       28     1380\n",
      "81      325967       28     1485\n",
      "\n",
      "[82 rows x 3 columns]\n",
      "For user 31 ,His shelf got books shown below:\n",
      "    Unnamed: 0  user_id  book_id\n",
      "0          510       31       39\n",
      "1       326612       31      106\n",
      "2       390678       31      188\n",
      "3       385488       31        1\n",
      "4          551       31       28\n",
      "..         ...      ...      ...\n",
      "63      385489       31     1531\n",
      "64      580472       31     1682\n",
      "65         532       31      360\n",
      "66         554       31     1868\n",
      "67      238108       31      527\n",
      "\n",
      "[68 rows x 3 columns]\n"
     ]
    }
   ],
   "source": [
    "import scipy.stats as st\n",
    "pd.options.display.max_rows = 50\n",
    "RR_ranks = st.rankdata(-RRs, method=\"min\") # \"-\" means the bigger the rank number will be smaller\n",
    "\n",
    "print(\"User with id %d with RR %f\" %( np.argwhere(RR_ranks==1).item(0), RRs[RR_ranks==1].item(0)))\n",
    "print(\"User with id %d with RR %f\" %( np.argwhere(RR_ranks==1).item(1), RRs[RR_ranks==1].item(1)))\n",
    "print(\"User with id %d with RR %f\" %( np.argwhere(RR_ranks==1).item(2), RRs[RR_ranks==1].item(2)))\n",
    "\n",
    "print(\"For user\",np.argwhere(RR_ranks==1).item(0),\",His shelf got books shown below:\")\n",
    "print(to_read_df[to_read_df[\"user_id\"] == np.argwhere(RR_ranks==1).item(0)].reset_index(drop = True))\n",
    "print(\"For user\",np.argwhere(RR_ranks==1).item(1),\",His shelf got books shown below:\")\n",
    "print(to_read_df[to_read_df[\"user_id\"] == np.argwhere(RR_ranks==1).item(1)].reset_index(drop = True))\n",
    "print(\"For user\",np.argwhere(RR_ranks==1).item(2),\",His shelf got books shown below:\")\n",
    "print(to_read_df[to_read_df[\"user_id\"] == np.argwhere(RR_ranks==1).item(2)].reset_index(drop = True))"
   ]
  },
  {
   "cell_type": "code",
   "execution_count": 0,
   "metadata": {
    "colab": {
     "base_uri": "https://localhost:8080/",
     "height": 170
    },
    "colab_type": "code",
    "id": "McjG2ouUcgPo",
    "outputId": "2bcf6450-15f0-456d-e796-69eead5bc59c"
   },
   "outputs": [
    {
     "name": "stdout",
     "output_type": "stream",
     "text": [
      "Top 5 items for user 8:\n",
      "[199, 296, 313, 340, 108]\n",
      "Top 5 items for user 28:\n",
      "[108, 21, 23, 3, 81]\n",
      "Top 5 items for user 31:\n",
      "[1306, 1390, 1270, 1342, 1525]\n",
      "Intra-list diversity for user8's 5 recommandation items: -0.6911\n",
      "Intra-list diversity for user28's 5 recommandation items: -0.8429\n",
      "Intra-list diversity for user31's 5 recommandation items: -0.7228\n"
     ]
    }
   ],
   "source": [
    "# calculate cosine similarity between two item\n",
    "def cos_sim(x, y):\n",
    "  x = x.detach().numpy().flatten()\n",
    "  y = y.detach().numpy().flatten()\n",
    "  return np.dot(x,y)/(np.linalg.norm(x)*np.linalg.norm(y))\n",
    "  \n",
    "user1 = []\n",
    "user2 = []\n",
    "user3 = []\n",
    "highestRR_userId1 = np.argwhere(RR_ranks==1).item(0)\n",
    "highestRR_userId2 = np.argwhere(RR_ranks==1).item(1)\n",
    "highestRR_userId3 = np.argwhere(RR_ranks==1).item(2)\n",
    "\n",
    "for i in range(-5,0):\n",
    "  user1.append(np.argsort(imodel_3.predict(highestRR_userId1)).item(-(6+i))) # item indices score from biggest to smallest\n",
    "  user2.append(np.argsort(imodel_3.predict(highestRR_userId2)).item(-(6+i)))\n",
    "  user3.append(np.argsort(imodel_3.predict(highestRR_userId3)).item(-(6+i)))\n",
    "\n",
    "print(\"Top 5 items for user %d:\" % (highestRR_userId1))\n",
    "print(user1)\n",
    "print(\"Top 5 items for user %d:\" % (highestRR_userId2))\n",
    "print(user2)\n",
    "print(\"Top 5 items for user %d:\" % (highestRR_userId3))\n",
    "print(user3)\n",
    "\n",
    "# print(imodel._net.item_embeddings(torch.tensor([23])).detach().numpy().flatten().shape)\n",
    "\n",
    "distance1 = 0\n",
    "distance2 = 0\n",
    "distance3 = 0\n",
    "for i in range(5):\n",
    "  for j in range(i,5):\n",
    "    if i == j:\n",
    "      continue\n",
    "    else:\n",
    "      # sum similarity between all possiable pairs \n",
    "      d1 = cos_sim(imodel_3._net.item_embeddings(torch.tensor([user1[i]])),imodel_3._net.item_embeddings(torch.tensor([user1[j]])))\n",
    "      distance1 += d1\n",
    "      d2 = cos_sim(imodel_3._net.item_embeddings(torch.tensor([user2[i]])),imodel_3._net.item_embeddings(torch.tensor([user2[j]])))\n",
    "      distance2 += d2\n",
    "      d3 = cos_sim(imodel_3._net.item_embeddings(torch.tensor([user3[i]])),imodel_3._net.item_embeddings(torch.tensor([user3[j]])))\n",
    "      distance3 += d3\n",
    "  \n",
    "print(\"Intra-list diversity for user%d's 5 recommandation items: %.4f\" % (highestRR_userId1, (2/(5*4))*(1-distance1)))\n",
    "print(\"Intra-list diversity for user%d's 5 recommandation items: %.4f\" % (highestRR_userId2, (2/(5*4))*(1-distance2)))\n",
    "print(\"Intra-list diversity for user%d's 5 recommandation items: %.4f\" % (highestRR_userId3, (2/(5*4))*(1-distance3)))"
   ]
  },
  {
   "cell_type": "markdown",
   "metadata": {
    "colab_type": "text",
    "id": "9GXv9_3DKweI"
   },
   "source": [
    "#Q4"
   ]
  },
  {
   "cell_type": "code",
   "execution_count": 0,
   "metadata": {
    "colab": {
     "base_uri": "https://localhost:8080/",
     "height": 34
    },
    "colab_type": "code",
    "id": "JT-sx2nAKy1k",
    "outputId": "64d24ca5-fc91-46cf-e1f8-efd1ff67e78e"
   },
   "outputs": [
    {
     "name": "stdout",
     "output_type": "stream",
     "text": [
      "1507 users' ranks are improved.\n"
     ]
    }
   ],
   "source": [
    "import matplotlib.pyplot as plt\n",
    "\n",
    "RRs_0 = mrr_score(imodel_0, test_dataset)\n",
    "RRs = mrr_score(imodel_3, test_dataset)\n",
    "combined_RRs = RRs_0 + RRs\n",
    "combined_RR_ranks = st.rankdata(-combined_RRs, method=\"min\")\n",
    "\n",
    "k = 0\n",
    "# model in Q3 is better, so compare the combined_model with Q3 model\n",
    "for i in range(len(combined_RR_ranks)):\n",
    "  if combined_RR_ranks[i] > RR_ranks[i]:\n",
    "    # count how many users' RR ranks are imporved\n",
    "    k += 1\n",
    "\n",
    "print(\"%d users' ranks are improved.\" % k)\n"
   ]
  },
  {
   "cell_type": "code",
   "execution_count": 0,
   "metadata": {
    "colab": {
     "base_uri": "https://localhost:8080/",
     "height": 34
    },
    "colab_type": "code",
    "id": "urMshXoeb_2_",
    "outputId": "89f3c3c7-a6a2-403e-f427-3f70e75dfa70"
   },
   "outputs": [
    {
     "name": "stdout",
     "output_type": "stream",
     "text": [
      "MRR Score for this CombSum model: 0.3962231115557779\n"
     ]
    }
   ],
   "source": [
    "class CombSummodel:\n",
    "  \n",
    "  def __init__(self, numitems):\n",
    "    self.num = numitems\n",
    "\n",
    "  def predict(self, uid):\n",
    "    # combine the output of two models, which are lists of score\n",
    "    self.combsum_temp = (imodel_0.predict(uid) + imodel_3.predict(uid)) \n",
    "    self.combsum_prediction = self.combsum_temp\n",
    "    return( self.combsum_prediction )\n",
    "\n",
    "print(\"MRR Score for this CombSum model:\",mrr_score(CombSummodel(num_items), test_dataset, train=rating_dataset).mean())"
   ]
  },
  {
   "cell_type": "code",
   "execution_count": 159,
   "metadata": {
    "colab": {
     "base_uri": "https://localhost:8080/",
     "height": 729
    },
    "colab_type": "code",
    "id": "a-F8CMFqSMP8",
    "outputId": "545fcbd2-8159-43f8-df0d-ec77df752267"
   },
   "outputs": [
    {
     "data": {
      "image/png": "[encoded data removed]",
      "text/plain": [
       "<Figure size 576x720 with 3 Axes>"
      ]
     },
     "metadata": {
      "tags": []
     },
     "output_type": "display_data"
    }
   ],
   "source": [
    "plt.figure(31,figsize=(8,10))\n",
    "plt.subplot(311)\n",
    "plt.bar(range(len(RRs_0)), RRs_0, color = 'rgb')\n",
    "plt.title(\"RR Scores of all users in Q2 implicit model\")\n",
    "plt.xlabel('userID')\n",
    "plt.ylabel('RR Score')\n",
    "plt.tight_layout()\n",
    "plt.subplot(312)\n",
    "plt.bar(range(len(RRs)), RRs, color = 'rgb')\n",
    "plt.title(\"RR Scores of all users in Q3 implicit model\")\n",
    "plt.xlabel('userID')\n",
    "plt.ylabel('RR Score')\n",
    "plt.tight_layout()\n",
    "plt.subplot(313)\n",
    "plt.bar(range(len(combined_RRs)), combined_RRs/2, color = 'rgb')\n",
    "plt.title(\"RR Scores of all users in CombSum model\")\n",
    "plt.xlabel('userID')\n",
    "plt.ylabel('RR Score')\n",
    "plt.tight_layout()"
   ]
  },
  {
   "cell_type": "markdown",
   "metadata": {
    "colab_type": "text",
    "id": "AtX7bzaihXeR"
   },
   "source": [
    "#Q5"
   ]
  },
  {
   "cell_type": "code",
   "execution_count": 0,
   "metadata": {
    "colab": {
     "base_uri": "https://localhost:8080/",
     "height": 419
    },
    "colab_type": "code",
    "id": "bs0U4iithXAQ",
    "outputId": "de7d5208-61cd-45d9-de9e-3dd62978c3ce"
   },
   "outputs": [
    {
     "data": {
      "text/html": [
       "<div>\n",
       "<style scoped>\n",
       "    .dataframe tbody tr th:only-of-type {\n",
       "        vertical-align: middle;\n",
       "    }\n",
       "\n",
       "    .dataframe tbody tr th {\n",
       "        vertical-align: top;\n",
       "    }\n",
       "\n",
       "    .dataframe thead th {\n",
       "        text-align: right;\n",
       "    }\n",
       "</style>\n",
       "<table border=\"1\" class=\"dataframe\">\n",
       "  <thead>\n",
       "    <tr style=\"text-align: right;\">\n",
       "      <th></th>\n",
       "      <th>book_id_x</th>\n",
       "      <th>book_id_y</th>\n",
       "      <th>count</th>\n",
       "      <th>ratingCount_x</th>\n",
       "      <th>ratingCount_y</th>\n",
       "      <th>lift</th>\n",
       "      <th>log_lift</th>\n",
       "    </tr>\n",
       "  </thead>\n",
       "  <tbody>\n",
       "    <tr>\n",
       "      <th>519793</th>\n",
       "      <td>1140</td>\n",
       "      <td>1302</td>\n",
       "      <td>1</td>\n",
       "      <td>1</td>\n",
       "      <td>1</td>\n",
       "      <td>124762.000000</td>\n",
       "      <td>11.734163</td>\n",
       "    </tr>\n",
       "    <tr>\n",
       "      <th>494143</th>\n",
       "      <td>1302</td>\n",
       "      <td>1608</td>\n",
       "      <td>1</td>\n",
       "      <td>1</td>\n",
       "      <td>1</td>\n",
       "      <td>124762.000000</td>\n",
       "      <td>11.734163</td>\n",
       "    </tr>\n",
       "    <tr>\n",
       "      <th>538453</th>\n",
       "      <td>880</td>\n",
       "      <td>1227</td>\n",
       "      <td>1</td>\n",
       "      <td>1</td>\n",
       "      <td>1</td>\n",
       "      <td>124762.000000</td>\n",
       "      <td>11.734163</td>\n",
       "    </tr>\n",
       "    <tr>\n",
       "      <th>494142</th>\n",
       "      <td>1140</td>\n",
       "      <td>1608</td>\n",
       "      <td>1</td>\n",
       "      <td>1</td>\n",
       "      <td>1</td>\n",
       "      <td>124762.000000</td>\n",
       "      <td>11.734163</td>\n",
       "    </tr>\n",
       "    <tr>\n",
       "      <th>537310</th>\n",
       "      <td>1811</td>\n",
       "      <td>1925</td>\n",
       "      <td>1</td>\n",
       "      <td>1</td>\n",
       "      <td>1</td>\n",
       "      <td>124762.000000</td>\n",
       "      <td>11.734163</td>\n",
       "    </tr>\n",
       "    <tr>\n",
       "      <th>...</th>\n",
       "      <td>...</td>\n",
       "      <td>...</td>\n",
       "      <td>...</td>\n",
       "      <td>...</td>\n",
       "      <td>...</td>\n",
       "      <td>...</td>\n",
       "      <td>...</td>\n",
       "    </tr>\n",
       "    <tr>\n",
       "      <th>337195</th>\n",
       "      <td>31</td>\n",
       "      <td>959</td>\n",
       "      <td>1</td>\n",
       "      <td>350</td>\n",
       "      <td>73</td>\n",
       "      <td>4.883053</td>\n",
       "      <td>1.585771</td>\n",
       "    </tr>\n",
       "    <tr>\n",
       "      <th>2986</th>\n",
       "      <td>154</td>\n",
       "      <td>291</td>\n",
       "      <td>1</td>\n",
       "      <td>176</td>\n",
       "      <td>147</td>\n",
       "      <td>4.822279</td>\n",
       "      <td>1.573247</td>\n",
       "    </tr>\n",
       "    <tr>\n",
       "      <th>48298</th>\n",
       "      <td>61</td>\n",
       "      <td>248</td>\n",
       "      <td>1</td>\n",
       "      <td>176</td>\n",
       "      <td>150</td>\n",
       "      <td>4.725833</td>\n",
       "      <td>1.553044</td>\n",
       "    </tr>\n",
       "    <tr>\n",
       "      <th>5269</th>\n",
       "      <td>19</td>\n",
       "      <td>112</td>\n",
       "      <td>1</td>\n",
       "      <td>220</td>\n",
       "      <td>135</td>\n",
       "      <td>4.200741</td>\n",
       "      <td>1.435261</td>\n",
       "    </tr>\n",
       "    <tr>\n",
       "      <th>40653</th>\n",
       "      <td>6</td>\n",
       "      <td>297</td>\n",
       "      <td>1</td>\n",
       "      <td>236</td>\n",
       "      <td>148</td>\n",
       "      <td>3.571977</td>\n",
       "      <td>1.273119</td>\n",
       "    </tr>\n",
       "  </tbody>\n",
       "</table>\n",
       "<p>538507 rows × 7 columns</p>\n",
       "</div>"
      ],
      "text/plain": [
       "        book_id_x  book_id_y  count  ...  ratingCount_y           lift   log_lift\n",
       "519793       1140       1302      1  ...              1  124762.000000  11.734163\n",
       "494143       1302       1608      1  ...              1  124762.000000  11.734163\n",
       "538453        880       1227      1  ...              1  124762.000000  11.734163\n",
       "494142       1140       1608      1  ...              1  124762.000000  11.734163\n",
       "537310       1811       1925      1  ...              1  124762.000000  11.734163\n",
       "...           ...        ...    ...  ...            ...            ...        ...\n",
       "337195         31        959      1  ...             73       4.883053   1.585771\n",
       "2986          154        291      1  ...            147       4.822279   1.573247\n",
       "48298          61        248      1  ...            150       4.725833   1.553044\n",
       "5269           19        112      1  ...            135       4.200741   1.435261\n",
       "40653           6        297      1  ...            148       3.571977   1.273119\n",
       "\n",
       "[538507 rows x 7 columns]"
      ]
     },
     "execution_count": 21,
     "metadata": {
      "tags": []
     },
     "output_type": "execute_result"
    }
   ],
   "source": [
    "# select all positive rating books\n",
    "all_positives = ratings_df[ratings_df[\"rating\"] >= 4].sort_values(by=['user_id']).iloc[:,1:3]\n",
    "all_pairs = pd.merge(all_positives, all_positives, on=[\"user_id\"])\n",
    "# drop duplicated rows which have same book pairs but with opposite order\n",
    "sequences = all_pairs[all_pairs[\"book_id_x\"] < all_pairs[\"book_id_y\"]]\n",
    "\n",
    "paircounts = sequences[[\"book_id_x\", \"book_id_y\", \"user_id\"]].groupby([\"book_id_x\",\"book_id_y\"]).count()\n",
    "\n",
    "book_pairs = paircounts.reset_index().rename(columns={\"user_id\" : \"count\"}).sort_values(['count'], ascending=False)\n",
    "\n",
    "book_counts = ratings_df[ratings_df[\"rating\"] >= 4].groupby([\"book_id\"]).count()[[\"user_id\"]].reset_index().rename(columns={\"user_id\" : \"ratingCount\"})\n",
    "\n",
    "allData = book_pairs.merge(book_counts, left_on=\"book_id_x\", right_on=\"book_id\").merge(book_counts, left_on=\"book_id_y\", right_on=\"book_id\")\n",
    "# calculate denominator\n",
    "num = float(ratings_df.count()[\"rating\"])\n",
    "# calculate Lift for all positive pairs\n",
    "allData[\"lift\"] = (allData[\"count\"] / num) / ((allData[\"ratingCount_x\"] / num) * (allData[\"ratingCount_y\"] / num))\n",
    "# calculate log\n",
    "allData['log_lift'] = np.log(allData['lift'])\n",
    "# select useful columns and sort by Lift score\n",
    "allData = allData.loc[:,~allData.columns.duplicated()].sort_values(by=['lift'], ascending=False)\n",
    "\n",
    "allData\n"
   ]
  },
  {
   "cell_type": "code",
   "execution_count": 0,
   "metadata": {
    "colab": {
     "base_uri": "https://localhost:8080/",
     "height": 680
    },
    "colab_type": "code",
    "id": "38GzDnqw-vDr",
    "outputId": "4ae3c6c4-f070-449d-d9ea-69425d056df8"
   },
   "outputs": [
    {
     "name": "stderr",
     "output_type": "stream",
     "text": [
      "/usr/local/lib/python3.6/dist-packages/ipykernel_launcher.py:21: SettingWithCopyWarning: \n",
      "A value is trying to be set on a copy of a slice from a DataFrame\n",
      "\n",
      "See the caveats in the documentation: http://pandas.pydata.org/pandas-docs/stable/user_guide/indexing.html#returning-a-view-versus-a-copy\n",
      "/usr/local/lib/python3.6/dist-packages/pandas/core/generic.py:9114: SettingWithCopyWarning: \n",
      "A value is trying to be set on a copy of a slice from a DataFrame\n",
      "\n",
      "See the caveats in the documentation: http://pandas.pydata.org/pandas-docs/stable/user_guide/indexing.html#returning-a-view-versus-a-copy\n",
      "  self._update_inplace(new_data)\n",
      "/usr/local/lib/python3.6/dist-packages/IPython/core/interactiveshell.py:2882: SettingWithCopyWarning: \n",
      "A value is trying to be set on a copy of a slice from a DataFrame\n",
      "\n",
      "See the caveats in the documentation: http://pandas.pydata.org/pandas-docs/stable/user_guide/indexing.html#returning-a-view-versus-a-copy\n",
      "  exec(code_obj, self.user_global_ns, self.user_ns)\n"
     ]
    },
    {
     "name": "stdout",
     "output_type": "stream",
     "text": [
      "MRR Score for this Pairs model: 0.00262412952508 with threshold: 3.0\n",
      "MRR Score for this Pairs model: 0.002644973280290939 with threshold: 3.25\n",
      "MRR Score for this Pairs model: 0.002694998292797192 with threshold: 3.5\n",
      "MRR Score for this Pairs model: 0.0026811024559898994 with threshold: 3.75\n",
      "MRR Score for this Pairs model: 0.002618571190357083 with threshold: 4.0\n",
      "MRR Score for this Pairs model: 0.0026193652381746426 with threshold: 4.25\n",
      "MRR Score for this Pairs model: 0.0026816979918530695 with threshold: 4.5\n",
      "MRR Score for this Pairs model: 0.0006765287405607566 with threshold: 4.75\n",
      "MRR Score for this Pairs model: 0.0010213440053360012 with threshold: 5.0\n",
      "MRR Score for this Pairs model: 0.001883878447160088 with threshold: 5.25\n",
      "MRR Score for this Pairs model: 0.0030332626630775704 with threshold: 5.5\n",
      "MRR Score for this Pairs model: 0.004463739806411141 with threshold: 5.75\n",
      "MRR Score for this Pairs model: 0.0057832487672407635 with threshold: 6.0\n",
      "MRR Score for this Pairs model: 0.005476150773799598 with threshold: 6.25\n",
      "MRR Score for this Pairs model: 0.005449153148002573 with threshold: 6.5\n",
      "MRR Score for this Pairs model: 0.005870197003263537 with threshold: 6.75\n",
      "MRR Score for this Pairs model: 0.0030286968881266026 with threshold: 7.0\n",
      "MRR Score for this Pairs model: 0.0022582719931394267 with threshold: 7.25\n",
      "MRR Score for this Pairs model: 0.0020649213495636705 with threshold: 7.5\n",
      "MRR Score for this Pairs model: 0.0018451686160540588 with threshold: 7.75\n"
     ]
    },
    {
     "name": "stderr",
     "output_type": "stream",
     "text": [
      "/usr/local/lib/python3.6/dist-packages/ipykernel_launcher.py:34: SettingWithCopyWarning: \n",
      "A value is trying to be set on a copy of a slice from a DataFrame\n",
      "\n",
      "See the caveats in the documentation: http://pandas.pydata.org/pandas-docs/stable/user_guide/indexing.html#returning-a-view-versus-a-copy\n"
     ]
    },
    {
     "name": "stdout",
     "output_type": "stream",
     "text": [
      "MRR Score for this Pairs model: 0.0684334230607367 with best threshold: 6.75\n"
     ]
    }
   ],
   "source": [
    "# pd.options.display.max_rows = 50\n",
    "plot_data=[]\n",
    "# remove the books rated by users from allData table\n",
    "def drop_rated_books(uid):\n",
    "  book_ids = books_score\n",
    "  user_rated = to_read_df[to_read_df['user_id'] == uid]['book_id']\n",
    "  user_rated = user_rated.to_frame().reset_index(drop = True)\n",
    "  judge = book_ids.isin(user_rated['book_id'].tolist()) == False # filter the rated ones\n",
    "  temp = book_ids['book_id']\n",
    "  user_recommand = book_ids[judge] \n",
    "  user_recommand['new_book_id'] = temp\n",
    "  user_recommand = user_recommand.sort_values(by='new_book_id',ascending = False).iloc[:,[2,1]].fillna(0)\n",
    "\n",
    "  return (user_recommand['log_lift'].array)\n",
    "\n",
    "class pairsmodel:\n",
    "  def predict(uid):\n",
    "    rec_books = drop_rated_books(uid)\n",
    "    return(rec_books)\n",
    "\n",
    "for threshold in np.arange(3,8,0.25):\n",
    "  # select useful columns\n",
    "  books_score = allData.iloc[:,[1,6]]\n",
    "  #define threshold for all pairs\n",
    "  books_score.log_lift[books_score.log_lift < threshold] = 0\n",
    "  books_score = books_score.groupby(['book_id_y']).sum().sort_values(by='log_lift',ascending = False).reset_index()\n",
    "  books_score = books_score.rename(columns={'book_id_y':'book_id'})\n",
    "  books_score = pd.merge(books_score, books_df['book_id'], on='book_id', how='right')\n",
    "\n",
    "  score = mrr_score(pairsmodel, validation, train=rating_dataset).mean()\n",
    "  plot_data.append(score)\n",
    "\n",
    "  print(\"MRR Score for this Pairs model:\",score,\"with threshold:\",threshold) # Takes about 2mins\n",
    "\n",
    "threshold = 6.75\n",
    "\n",
    "books_score = allData.iloc[:,[1,6]]\n",
    "books_score.log_lift[books_score.log_lift < threshold] = 0\n",
    "books_score = books_score.groupby(['book_id_y']).sum().sort_values(by='log_lift',ascending = False).reset_index()\n",
    "books_score = books_score.rename(columns={'book_id_y':'book_id'})\n",
    "books_score = pd.merge(books_score, books_df['book_id'], on='book_id', how='right')\n",
    "score = mrr_score(pairsmodel, test_dataset, train=rating_dataset).mean()\n",
    "print(\"MRR Score for this Pairs model:\",score,\"with best threshold:\",threshold)"
   ]
  },
  {
   "cell_type": "code",
   "execution_count": 163,
   "metadata": {
    "colab": {
     "base_uri": "https://localhost:8080/",
     "height": 421
    },
    "colab_type": "code",
    "id": "gN5Fewh18BmS",
    "outputId": "108b3e86-3a19-4619-b95f-9961445008b3"
   },
   "outputs": [
    {
     "data": {
      "text/plain": [
       "[<matplotlib.lines.Line2D at 0x7fd4e0eac320>]"
      ]
     },
     "execution_count": 163,
     "metadata": {
      "tags": []
     },
     "output_type": "execute_result"
    },
    {
     "data": {
      "image/png": "[encoded data removed]",
      "text/plain": [
       "<Figure size 720x432 with 1 Axes>"
      ]
     },
     "metadata": {
      "tags": []
     },
     "output_type": "display_data"
    }
   ],
   "source": [
    "plt.figure(figsize=(10,6))\n",
    "plt.title(\"MRR Scores for pairs model with different threshold\")\n",
    "plt.xlabel('Value of threshold')\n",
    "plt.ylabel('MRR Score')\n",
    "plt.xticks(np.arange(3,8,0.25))\n",
    "plt.plot(np.arange(3,8,0.25),plot_data)"
   ]
  },
  {
   "cell_type": "markdown",
   "metadata": {
    "colab_type": "text",
    "id": "RnlzsFZs23vH"
   },
   "source": [
    "#Q6"
   ]
  },
  {
   "cell_type": "code",
   "execution_count": 0,
   "metadata": {
    "colab": {
     "base_uri": "https://localhost:8080/",
     "height": 34
    },
    "colab_type": "code",
    "id": "ZBG1LZel3AZW",
    "outputId": "b3fed0af-3559-4d13-f978-5d86c80483d8"
   },
   "outputs": [
    {
     "name": "stdout",
     "output_type": "stream",
     "text": [
      "MRR Score for this wedCombSum model: 0.39873269968317493\n"
     ]
    }
   ],
   "source": [
    "class wedCombSummodel:\n",
    "  \n",
    "  def __init__(self, numitems):\n",
    "    self.num = numitems\n",
    "\n",
    "  def predict(self, uid):\n",
    "    self.combsum_temp = (0.41*(imodel_0.predict(uid)/imodel_0.predict(uid).max()) + 0.58*(imodel_3.predict(uid)/imodel_3.predict(uid).max()) + 0.01*(pairsmodel.predict(uid)/pairsmodel.predict(uid).max()))\n",
    "    self.combsum_prediction = self.combsum_temp\n",
    "    return( self.combsum_prediction )\n",
    "\n",
    "print(\"MRR Score for this wedCombSum model:\",mrr_score(wedCombSummodel(num_items), test_dataset, train=rating_dataset).mean())\n",
    "\n"
   ]
  },
  {
   "cell_type": "markdown",
   "metadata": {
    "colab_type": "text",
    "id": "bgt17lJ0gKFt"
   },
   "source": [
    "#Q7"
   ]
  },
  {
   "cell_type": "markdown",
   "metadata": {
    "colab_type": "text",
    "id": "CBO98HeLgM2d"
   },
   "source": [
    "Based on all models trained, it's better to deploy a hybrid model. The hybrid model of mine contains an implicit model from Q2, implicit model from Q3 and pairs model from Q5. The performance of the combination of these three models outweighs every single model. It can reach an mrr score of 0.3987.\n",
    "\n",
    "After tuning the embedding_dim variable within both models in Q2 and Q3, each of them can reach mrr scores of 0.365 and 0.22. Essentially, they both use a classic matrix factorization 1 approach, with latent vectors used to represent both users and items. These two models are just trained on different datasets. And their dot product gives the predicted score for a user-item pair. So introducing a recommender based on lift score can let the hybrid model not focus on *personalize* only, but some famous transactions as well. The pair-lift-based model got an mrr score of 0.068.\n",
    "\n",
    "During the whole process of implementing various recommended models, I got more understandings about working with Spotlight and pandas, especially for constructing a model based on a pair-lift score. So many details need to be carefully considered, like the return value of *predict()*, how to exclude the books rated by the user and replace the NaN with 0. Handling these details solid my foundation about understanding how a recommender works.\n",
    "\n",
    "\n"
   ]
  },
  {
   "cell_type": "code",
   "execution_count": 7,
   "metadata": {},
   "outputs": [
    {
     "name": "stdout",
     "output_type": "stream",
     "text": [
      "Available Themes: \r\n",
      "   chesterish\r\n",
      "   grade3\r\n",
      "   gruvboxd\r\n",
      "   gruvboxl\r\n",
      "   monokai\r\n",
      "   oceans16\r\n",
      "   onedork\r\n",
      "   solarizedd\r\n",
      "   solarizedl\r\n"
     ]
    }
   ],
   "source": [
    "!jt -t "
   ]
  }
 ],
 "metadata": {
  "colab": {
   "collapsed_sections": [],
   "name": "Copy of RecSys coursework 2020 template.ipynb",
   "provenance": []
  },
  "kernelspec": {
   "display_name": "Python 3",
   "language": "python",
   "name": "python3"
  },
  "language_info": {
   "codemirror_mode": {
    "name": "ipython",
    "version": 3
   },
   "file_extension": ".py",
   "mimetype": "text/x-python",
   "name": "python",
   "nbconvert_exporter": "python",
   "pygments_lexer": "ipython3",
   "version": "3.7.2"
  }
 },
 "nbformat": 4,
 "nbformat_minor": 1
}
