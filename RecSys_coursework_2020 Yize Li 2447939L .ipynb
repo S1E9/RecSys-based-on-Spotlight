{
 "cells": [
  {
   "cell_type": "markdown",
   "metadata": {
    "colab_type": "text",
    "id": "THQFNe3zdt1f"
   },
   "source": [
    "# Assessed Notebook\n",
    "\n",
    "This is the RecSys(H) 2020 coursework. It deals with data preparation and evaluation only.\n",
    "\n",
    "Please note:\n",
    " - use H1 text headings for grouping together blocks of cells. You can then hide these while working on other blocks\n",
    " - leave the cell output visible when you submit the notebook\n",
    "\n"
   ]
  },
  {
   "cell_type": "markdown",
   "metadata": {
    "colab_type": "text",
    "id": "Ww--_kl9-ndn"
   },
   "source": [
    "## Setup block\n",
    "\n",
    "Setup the data files, Python etc."
   ]
  },
  {
   "cell_type": "code",
   "execution_count": 0,
   "metadata": {
    "colab": {
     "base_uri": "https://localhost:8080/",
     "height": 221
    },
    "colab_type": "code",
    "id": "iFgYpbhh0tkX",
    "outputId": "2d57fa0b-4d66-4abc-a15f-1d5b61b7e7b8"
   },
   "outputs": [
    {
     "name": "stdout",
     "output_type": "stream",
     "text": [
      "  % Total    % Received % Xferd  Average Speed   Time    Time     Time  Current\n",
      "                                 Dload  Upload   Total   Spent    Left  Speed\n",
      "100 7631k  100 7631k    0     0  1750k      0  0:00:04  0:00:04 --:--:-- 1981k\n",
      "  % Total    % Received % Xferd  Average Speed   Time    Time     Time  Current\n",
      "                                 Dload  Upload   Total   Spent    Left  Speed\n",
      "100 2366k  100 2366k    0     0  1009k      0  0:00:02  0:00:02 --:--:-- 1009k\n",
      "  % Total    % Received % Xferd  Average Speed   Time    Time     Time  Current\n",
      "                                 Dload  Upload   Total   Spent    Left  Speed\n",
      "100 7581k  100 7581k    0     0  2651k      0  0:00:02  0:00:02 --:--:-- 2650k\n",
      "  % Total    % Received % Xferd  Average Speed   Time    Time     Time  Current\n",
      "                                 Dload  Upload   Total   Spent    Left  Speed\n",
      "100 1895k  100 1895k    0     0   812k      0  0:00:02  0:00:02 --:--:--  812k\n"
     ]
    }
   ],
   "source": [
    "!rm -rf ratings* books* to_read* test*\n",
    "\n",
    "!curl -o ratings.csv \"http://www.dcs.gla.ac.uk/~craigm/recsysH/coursework/final-ratings.csv\" \n",
    "!curl -o books.csv \"http://www.dcs.gla.ac.uk/~craigm/recsysH/coursework/final-books.csv\"\n",
    "!curl -o to_read.csv \"http://www.dcs.gla.ac.uk/~craigm/recsysH/coursework/final-to_read.csv\"\n",
    "!curl -o test.csv \"http://www.dcs.gla.ac.uk/~craigm/recsysH/coursework/final-test.csv\""
   ]
  },
  {
   "cell_type": "code",
   "execution_count": 0,
   "metadata": {
    "colab": {
     "base_uri": "https://localhost:8080/",
     "height": 204
    },
    "colab_type": "code",
    "id": "1VpVnNrZ1EiX",
    "outputId": "78b29571-12b5-4fed-a8e5-0cc57e1294f5"
   },
   "outputs": [
    {
     "name": "stdout",
     "output_type": "stream",
     "text": [
      "Collecting spotlight\n",
      "  Cloning https://github.com/cmacdonald/spotlight.git (to revision master) to /tmp/pip-install-13x52_6t/spotlight\n",
      "  Running command git clone -q https://github.com/cmacdonald/spotlight.git /tmp/pip-install-13x52_6t/spotlight\n",
      "Requirement already satisfied: torch>=0.4.0 in /usr/local/lib/python3.6/dist-packages (from spotlight) (1.4.0)\n",
      "Building wheels for collected packages: spotlight\n",
      "  Building wheel for spotlight (setup.py) ... \u001b[?25l\u001b[?25hdone\n",
      "  Created wheel for spotlight: filename=spotlight-0.1.6-cp36-none-any.whl size=34096 sha256=6010811bc8dc7103749d0c4297834effbff23f3e0b939c82e7cc77f150c77388\n",
      "  Stored in directory: /tmp/pip-ephem-wheel-cache-bq2q8nw0/wheels/22/6f/f1/68cc6c5b563e78737e4a8fed63ddc105a3baf25d2abccae0c6\n",
      "Successfully built spotlight\n",
      "Installing collected packages: spotlight\n",
      "Successfully installed spotlight-0.1.6\n"
     ]
    }
   ],
   "source": [
    "#Standard setup\n",
    "import pandas as pd\n",
    "import numpy as np\n",
    "import torch\n",
    "!pip install git+https://github.com/cmacdonald/spotlight.git@master#egg=spotlight\n",
    "from spotlight.interactions import Interactions\n"
   ]
  },
  {
   "cell_type": "markdown",
   "metadata": {
    "colab_type": "text",
    "id": "RtJO0e0m-hun"
   },
   "source": [
    "# data preparation"
   ]
  },
  {
   "cell_type": "code",
   "execution_count": 0,
   "metadata": {
    "colab": {},
    "colab_type": "code",
    "id": "qKAb25iw1MYw"
   },
   "outputs": [],
   "source": [
    "#load in the csv files\n",
    "ratings_df = pd.read_csv(\"ratings.csv\")\n",
    "books_df = pd.read_csv(\"books.csv\")\n",
    "to_read_df = pd.read_csv(\"to_read.csv\")\n",
    "test = pd.read_csv(\"test.csv\")\n",
    "# print(ratings_df)\n",
    "# print(books_df)"
   ]
  },
  {
   "cell_type": "code",
   "execution_count": 0,
   "metadata": {
    "colab": {},
    "colab_type": "code",
    "id": "W6rqfn53OhDC"
   },
   "outputs": [],
   "source": [
    "#cut down the number of items and users\n",
    "counts=ratings_df[ratings_df[\"book_id\"] < 2000].groupby([\"book_id\"]).count().reset_index()\n",
    "valid_books=counts[counts[\"user_id\"] >= 10][[\"book_id\"]]\n",
    "\n",
    "books_df = books_df.merge(valid_books, on=\"book_id\")\n",
    "\n",
    "ratings_df = ratings_df[ratings_df[\"user_id\"] < 2000].merge(valid_books, on=\"book_id\")\n",
    "to_read_df = to_read_df[to_read_df[\"user_id\"] < 2000].merge(valid_books, on=\"book_id\")\n",
    "test = test[test[\"user_id\"] < 2000].merge(valid_books, on=\"book_id\")\n",
    "\n"
   ]
  },
  {
   "cell_type": "markdown",
   "metadata": {
    "colab_type": "text",
    "id": "C7cgXhmYUXIn"
   },
   "source": [
    "Here we construct the Interactions objects from `ratings.csv`, `to_read.csv` and `test.csv`. We manually specify the num_users and num_items parameters to all Interaction objects, in case the test set differs from your training sets."
   ]
  },
  {
   "cell_type": "code",
   "execution_count": 0,
   "metadata": {
    "colab": {
     "base_uri": "https://localhost:8080/",
     "height": 68
    },
    "colab_type": "code",
    "id": "15ClgJOdTTt1",
    "outputId": "de429f84-a4d6-473a-90fa-a1d5f3843262"
   },
   "outputs": [
    {
     "name": "stdout",
     "output_type": "stream",
     "text": [
      "<Interactions dataset (1999 users x 1826 items x 124762 interactions)>\n",
      "<Interactions dataset (1999 users x 1826 items x 135615 interactions)>\n",
      "<Interactions dataset (1999 users x 1826 items x 33917 interactions)>\n"
     ]
    }
   ],
   "source": [
    "from collections import defaultdict\n",
    "from itertools import count\n",
    "\n",
    "from spotlight.cross_validation import random_train_test_split\n",
    "\n",
    "iid_map = defaultdict(count().__next__)\n",
    "\n",
    "\n",
    "rating_iids = np.array([iid_map[iid] for iid in ratings_df[\"book_id\"].values], dtype = np.int32)\n",
    "test_iids = np.array([iid_map[iid] for iid in test[\"book_id\"].values], dtype = np.int32)\n",
    "toread_iids = np.array([iid_map[iid] for iid in to_read_df[\"book_id\"].values], dtype = np.int32)\n",
    "\n",
    "\n",
    "uid_map = defaultdict(count().__next__)\n",
    "test_uids = np.array([uid_map[uid] for uid in test[\"user_id\"].values], dtype = np.int32)\n",
    "rating_uids = np.array([uid_map[uid] for uid in ratings_df[\"user_id\"].values], dtype = np.int32)\n",
    "toread_uids = np.array([uid_map[iid] for iid in to_read_df[\"user_id\"].values], dtype = np.int32)\n",
    "\n",
    "\n",
    "uid_rev_map = {v: k for k, v in uid_map.items()}\n",
    "iid_rev_map = {v: k for k, v in iid_map.items()}\n",
    "\n",
    "\n",
    "rating_dataset = Interactions(user_ids=rating_uids,\n",
    "                               item_ids=rating_iids,\n",
    "                               ratings=ratings_df[\"rating\"].values,\n",
    "                               num_users=len(uid_rev_map),\n",
    "                               num_items=len(iid_rev_map))\n",
    "\n",
    "toread_dataset = Interactions(user_ids=toread_uids,\n",
    "                               item_ids=toread_iids,\n",
    "                               num_users=len(uid_rev_map),\n",
    "                               num_items=len(iid_rev_map))\n",
    "\n",
    "test_dataset = Interactions(user_ids=test_uids,\n",
    "                               item_ids=test_iids,\n",
    "                               num_users=len(uid_rev_map),\n",
    "                               num_items=len(iid_rev_map))\n",
    "\n",
    "print(rating_dataset)\n",
    "print(toread_dataset)\n",
    "print(test_dataset)\n",
    "\n",
    "#here we define the validation set\n",
    "rating_dataset_train, explict_validation = random_train_test_split(rating_dataset, random_state=np.random.RandomState(42))\n",
    "toread_dataset_train, validation = random_train_test_split(toread_dataset, random_state=np.random.RandomState(42))\n",
    "\n",
    "num_items = test_dataset.num_items\n",
    "num_users = test_dataset.num_users"
   ]
  },
  {
   "cell_type": "markdown",
   "metadata": {
    "colab_type": "text",
    "id": "Kt4I2C5DTUL5"
   },
   "source": [
    "#Example code\n",
    "\n",
    "To evaluate soem of your hand-implemented recommender systems (e.g. Q1, Q4), you will need to instantiate objects that match the specification of a Spotlight model, which `mrr_score()` expects.\n",
    "\n",
    "\n",
    "Here is an example recommender object that returns 0 for each item, regardless of user."
   ]
  },
  {
   "cell_type": "code",
   "execution_count": 0,
   "metadata": {
    "colab": {
     "base_uri": "https://localhost:8080/",
     "height": 34
    },
    "colab_type": "code",
    "id": "s2eaxy_hakbC",
    "outputId": "5b23ce82-c733-4b7b-8527-fade51ee37ab"
   },
   "outputs": [
    {
     "name": "stdout",
     "output_type": "stream",
     "text": [
      "0.0\n"
     ]
    }
   ],
   "source": [
    "from spotlight.evaluation import mrr_score\n",
    "\n",
    "\n",
    "class dummymodel:\n",
    "  \n",
    "  def __init__(self, numitems):\n",
    "    self.predictions=np.zeros(numitems)\n",
    "  \n",
    "  #uid is the user we are requesting recommendations for;\n",
    "  #returns an array of scores, one for each item\n",
    "  def predict(self, uid):\n",
    "    #this model returns all zeros, regardless of userid\n",
    "    return( self.predictions )\n",
    "\n",
    "#lets evaluate how the effeciveness of dummymodel\n",
    "\n",
    "print(mrr_score(dummymodel(num_items), test_dataset, train=rating_dataset, k=100).mean())\n",
    "#as expected, a recommendation model that gives 0 scores for all items obtains a MRR score of 0\n",
    "\n"
   ]
  },
  {
   "cell_type": "code",
   "execution_count": 0,
   "metadata": {
    "colab": {
     "base_uri": "https://localhost:8080/",
     "height": 51
    },
    "colab_type": "code",
    "id": "ZQTJOmS5dB3i",
    "outputId": "4768e088-d22c-4a3e-f4d0-8926f8bc88bf"
   },
   "outputs": [
    {
     "name": "stderr",
     "output_type": "stream",
     "text": [
      "1999it [00:00, 2945.03it/s]"
     ]
    },
    {
     "name": "stdout",
     "output_type": "stream",
     "text": [
      "0.0\n"
     ]
    },
    {
     "name": "stderr",
     "output_type": "stream",
     "text": [
      "\n"
     ]
    }
   ],
   "source": [
    "\n",
    "#note that the latest copy of Craig's Spotlight displays a progress bar if you set verbose=True\n",
    "print(mrr_score(dummymodel(num_items), test_dataset, train=rating_dataset, k=100, verbose=True).mean())\n"
   ]
  },
  {
   "cell_type": "markdown",
   "metadata": {
    "colab_type": "text",
    "id": "SyvGgW_3ZjLV"
   },
   "source": [
    "#Q1\n",
    "\n"
   ]
  },
  {
   "cell_type": "code",
   "execution_count": 0,
   "metadata": {
    "colab": {},
    "colab_type": "code",
    "id": "Ag4mKqdckb6J"
   },
   "outputs": [],
   "source": [
    "# baseline statistic data calculation\n",
    "nonper_rec1 = ratings_df[[\"book_id\", \"rating\"]].groupby([\"book_id\"]).mean().sort_values(by=['rating'], ascending=False)\n",
    "nonper_rec2 = books_df[[\"book_id\",\"ratings_count\"]].groupby([\"book_id\"]).sum().sort_values(by=['ratings_count'], ascending=False)\n",
    "nonper_rec3 = books_df[[\"book_id\",\"ratings_5\"]].groupby([\"book_id\"]).sum().sort_values(by=['ratings_5'], ascending=False)\n",
    "nonper_rec4 = nonper_rec2.merge(nonper_rec3,how='left',on='book_id').reset_index()\n",
    "nonper_rec4['fraction'] = nonper_rec4['ratings_5'] / nonper_rec4['ratings_count']\n",
    "nonper_rec4 = nonper_rec4.drop(columns=['ratings_count','ratings_5']).groupby([\"book_id\"]).sum().sort_values(by=['fraction'], ascending=False)\n",
    "\n",
    "class baselinemodel1:\n",
    "  def __init__(self, numitems):\n",
    "    self.predictions = nonper_rec1[0: numitems]\n",
    "  def predict(self, uid):\n",
    "    return( self.predictions )\n",
    "\n",
    "class baselinemodel2:\n",
    "  def __init__(self, numitems):\n",
    "    self.predictions = nonper_rec2[0: numitems]\n",
    "  def predict(self, uid):\n",
    "    return( self.predictions )\n",
    "\n",
    "class baselinemodel3:\n",
    "  def __init__(self, numitems):\n",
    "    self.predictions = nonper_rec3[0: numitems]\n",
    "  def predict(self, uid):\n",
    "    return( self.predictions )\n",
    "\n",
    "class baselinemodel4:\n",
    "  def __init__(self, numitems):\n",
    "    self.predictions = nonper_rec4[0: numitems]\n",
    "  def predict(self, uid):\n",
    "    return( self.predictions )"
   ]
  },
  {
   "cell_type": "code",
   "execution_count": 147,
   "metadata": {
    "colab": {
     "base_uri": "https://localhost:8080/",
     "height": 85
    },
    "colab_type": "code",
    "id": "qe5jqJbUqePV",
    "outputId": "161cf958-bbfa-41ca-8fa9-14d418ad8a09"
   },
   "outputs": [
    {
     "name": "stdout",
     "output_type": "stream",
     "text": [
      "MRR Score for this baseline model(Average rating): 0.058408405883614074\n",
      "MRR Score for this baseline model(Number of ratings): 0.06928067208207278\n",
      "MRR Score for this baseline model(Number of 5* ratings): 0.06928067208207278\n",
      "MRR Score for this baseline model(Fraction of 5* ratings): 0.06928067208207278\n"
     ]
    }
   ],
   "source": [
    "print(\"MRR Score for this baseline model(Average rating):\",mrr_score(baselinemodel1(num_items), test_dataset).mean())\n",
    "print(\"MRR Score for this baseline model(Number of ratings):\",mrr_score(baselinemodel2(num_items), test_dataset).mean())\n",
    "print(\"MRR Score for this baseline model(Number of 5* ratings):\",mrr_score(baselinemodel3(num_items), test_dataset).mean())\n",
    "print(\"MRR Score for this baseline model(Fraction of 5* ratings):\",mrr_score(baselinemodel4(num_items), test_dataset).mean())"
   ]
  },
  {
   "cell_type": "markdown",
   "metadata": {
    "colab_type": "text",
    "id": "AmlGvCEvn4t0"
   },
   "source": [
    "#Q2"
   ]
  },
  {
   "cell_type": "code",
   "execution_count": 0,
   "metadata": {
    "colab": {
     "base_uri": "https://localhost:8080/",
     "height": 306
    },
    "colab_type": "code",
    "id": "R3ovRK3OnvHs",
    "outputId": "983a6780-b8c7-4c3b-8aed-9b5797df19de"
   },
   "outputs": [
    {
     "name": "stdout",
     "output_type": "stream",
     "text": [
      "Training Explicit Factorization Model...\n",
      "Epoch 0: loss 4.5438603864266325\n",
      "Epoch 1: loss 0.8014215594682939\n",
      "Epoch 2: loss 0.6319218722673563\n",
      "Epoch 3: loss 0.4911799482810192\n",
      "Epoch 4: loss 0.3952183448351346\n",
      "MRR score tested on validation set:0.0332\n",
      "MRR score tested on test set:0.0444\n",
      "\n",
      "Training Implicit Factorization Model...\n",
      "Epoch 0: loss 0.3653127737916433\n",
      "Epoch 1: loss 0.21220756012659805\n",
      "Epoch 2: loss 0.17150749447636116\n",
      "Epoch 3: loss 0.15507851667129077\n",
      "Epoch 4: loss 0.14262114188227898\n",
      "MRR score tested on validation set:0.1903\n",
      "MRR score tested on test set:0.3652\n"
     ]
    }
   ],
   "source": [
    "from spotlight.factorization.explicit import ExplicitFactorizationModel\n",
    "from spotlight.factorization.implicit import ImplicitFactorizationModel\n",
    "from spotlight.evaluation import mrr_score\n",
    "\n",
    "# Split explict data, done in cell above\n",
    "rating_dataset_train, explict_validation = random_train_test_split(rating_dataset, random_state=np.random.RandomState(42))\n",
    "\n",
    "\n",
    "emodel = ExplicitFactorizationModel(n_iter=5,\n",
    "                                    embedding_dim=32, # after tuning this variable, best option is 32\n",
    "                                    use_cuda=False)\n",
    "\n",
    "print(\"Training Explicit Factorization Model...\")\n",
    "emodel.fit(rating_dataset_train, verbose=True)\n",
    "print(\"MRR score tested on validation set:%.4f\" % (mrr_score(emodel, explict_validation).mean()))\n",
    "print(\"MRR score tested on test set:%.4f\" % (mrr_score(emodel, test_dataset, train=rating_dataset).mean()))\n",
    "\n",
    "\n",
    "imodel_0 = ImplicitFactorizationModel(loss = 'bpr',\n",
    "                                    n_iter=5, \n",
    "                                    embedding_dim=16, # after tuning this variable, best option is 16\n",
    "                                    use_cuda=False)\n",
    "\n",
    "print(\"\\nTraining Implicit Factorization Model...\")\n",
    "imodel_0.fit(rating_dataset_train, verbose=True)\n",
    "print(\"MRR score tested on validation set:%.4f\" % (mrr_score(imodel_0, explict_validation).mean()))\n",
    "print(\"MRR score tested on test set:%.4f\" % (mrr_score(imodel_0, test_dataset, train=rating_dataset).mean()))"
   ]
  },
  {
   "cell_type": "markdown",
   "metadata": {
    "colab_type": "text",
    "id": "BpXMRqMQNbQj"
   },
   "source": [
    "#Q3"
   ]
  },
  {
   "cell_type": "code",
   "execution_count": 0,
   "metadata": {
    "colab": {
     "base_uri": "https://localhost:8080/",
     "height": 153
    },
    "colab_type": "code",
    "id": "XDeAtX0VNc1w",
    "outputId": "d7ad0311-8432-42c0-e9b6-d91c0acbfaa6"
   },
   "outputs": [
    {
     "name": "stdout",
     "output_type": "stream",
     "text": [
      "Training Implicit Factorization Model...\n",
      "Epoch 0: loss 0.36429820079707875\n",
      "Epoch 1: loss 0.21117266390542938\n",
      "Epoch 2: loss 0.1751345376888255\n",
      "Epoch 3: loss 0.15821403482893728\n",
      "Epoch 4: loss 0.14760528981053042\n",
      "MRR score tested on validation set:0.1850\n",
      "MRR score tested on test set:0.2206\n"
     ]
    }
   ],
   "source": [
    "imodel_3 = ImplicitFactorizationModel(loss = 'bpr',\n",
    "                                    n_iter=5, \n",
    "                                    embedding_dim=16, # after tuning this variable, best option is 16\n",
    "                                    use_cuda=False)\n",
    "\n",
    "print(\"Training Implicit Factorization Model...\")\n",
    "imodel_3.fit(toread_dataset_train, verbose=True)\n",
    "print(\"MRR score tested on validation set:%.4f\" % (mrr_score(imodel_3, validation).mean()))\n",
    "RRs = mrr_score(imodel_3, test_dataset)\n",
    "print(\"MRR score tested on test set:%.4f\" % (RRs.mean()))\n"
   ]
  },
  {
   "cell_type": "code",
   "execution_count": 152,
   "metadata": {
    "colab": {
     "base_uri": "https://localhost:8080/",
     "height": 833
    },
    "colab_type": "code",
    "id": "vRGSsshSTMTS",
    "outputId": "c243ee66-93c9-4492-f76e-4aadd75d3926"
   },
   "outputs": [
    {
     "name": "stdout",
     "output_type": "stream",
     "text": [
      "User with id 8 with RR 1.000000\n",
      "User with id 28 with RR 1.000000\n",
      "User with id 31 with RR 1.000000\n",
      "For user 8 ,His shelf got books shown below:\n",
      "    Unnamed: 0  user_id  book_id\n",
      "0          180        8      177\n",
      "1        39177        8       80\n",
      "2       230089        8       28\n",
      "3       144862        8      560\n",
      "4       230088        8      592\n",
      "..         ...      ...      ...\n",
      "58      144978        8      788\n",
      "59          57        8     1937\n",
      "60      230084        8      390\n",
      "61      144963        8      769\n",
      "62          60        8     1967\n",
      "\n",
      "[63 rows x 3 columns]\n",
      "For user 28 ,His shelf got books shown below:\n",
      "    Unnamed: 0  user_id  book_id\n",
      "0       131902       28        9\n",
      "1       369157       28        1\n",
      "2       297149       28      256\n",
      "3       134622       28       28\n",
      "4        46128       28      662\n",
      "..         ...      ...      ...\n",
      "77      131894       28      674\n",
      "78      334037       28     1344\n",
      "79      325984       28     1858\n",
      "80        6032       28     1380\n",
      "81      325967       28     1485\n",
      "\n",
      "[82 rows x 3 columns]\n",
      "For user 31 ,His shelf got books shown below:\n",
      "    Unnamed: 0  user_id  book_id\n",
      "0          510       31       39\n",
      "1       326612       31      106\n",
      "2       390678       31      188\n",
      "3       385488       31        1\n",
      "4          551       31       28\n",
      "..         ...      ...      ...\n",
      "63      385489       31     1531\n",
      "64      580472       31     1682\n",
      "65         532       31      360\n",
      "66         554       31     1868\n",
      "67      238108       31      527\n",
      "\n",
      "[68 rows x 3 columns]\n"
     ]
    }
   ],
   "source": [
    "import scipy.stats as st\n",
    "pd.options.display.max_rows = 50\n",
    "RR_ranks = st.rankdata(-RRs, method=\"min\") # \"-\" means the bigger the rank number will be smaller\n",
    "\n",
    "print(\"User with id %d with RR %f\" %( np.argwhere(RR_ranks==1).item(0), RRs[RR_ranks==1].item(0)))\n",
    "print(\"User with id %d with RR %f\" %( np.argwhere(RR_ranks==1).item(1), RRs[RR_ranks==1].item(1)))\n",
    "print(\"User with id %d with RR %f\" %( np.argwhere(RR_ranks==1).item(2), RRs[RR_ranks==1].item(2)))\n",
    "\n",
    "print(\"For user\",np.argwhere(RR_ranks==1).item(0),\",His shelf got books shown below:\")\n",
    "print(to_read_df[to_read_df[\"user_id\"] == np.argwhere(RR_ranks==1).item(0)].reset_index(drop = True))\n",
    "print(\"For user\",np.argwhere(RR_ranks==1).item(1),\",His shelf got books shown below:\")\n",
    "print(to_read_df[to_read_df[\"user_id\"] == np.argwhere(RR_ranks==1).item(1)].reset_index(drop = True))\n",
    "print(\"For user\",np.argwhere(RR_ranks==1).item(2),\",His shelf got books shown below:\")\n",
    "print(to_read_df[to_read_df[\"user_id\"] == np.argwhere(RR_ranks==1).item(2)].reset_index(drop = True))"
   ]
  },
  {
   "cell_type": "code",
   "execution_count": 0,
   "metadata": {
    "colab": {
     "base_uri": "https://localhost:8080/",
     "height": 170
    },
    "colab_type": "code",
    "id": "McjG2ouUcgPo",
    "outputId": "2bcf6450-15f0-456d-e796-69eead5bc59c"
   },
   "outputs": [
    {
     "name": "stdout",
     "output_type": "stream",
     "text": [
      "Top 5 items for user 8:\n",
      "[199, 296, 313, 340, 108]\n",
      "Top 5 items for user 28:\n",
      "[108, 21, 23, 3, 81]\n",
      "Top 5 items for user 31:\n",
      "[1306, 1390, 1270, 1342, 1525]\n",
      "Intra-list diversity for user8's 5 recommandation items: -0.6911\n",
      "Intra-list diversity for user28's 5 recommandation items: -0.8429\n",
      "Intra-list diversity for user31's 5 recommandation items: -0.7228\n"
     ]
    }
   ],
   "source": [
    "# calculate cosine similarity between two item\n",
    "def cos_sim(x, y):\n",
    "  x = x.detach().numpy().flatten()\n",
    "  y = y.detach().numpy().flatten()\n",
    "  return np.dot(x,y)/(np.linalg.norm(x)*np.linalg.norm(y))\n",
    "  \n",
    "user1 = []\n",
    "user2 = []\n",
    "user3 = []\n",
    "highestRR_userId1 = np.argwhere(RR_ranks==1).item(0)\n",
    "highestRR_userId2 = np.argwhere(RR_ranks==1).item(1)\n",
    "highestRR_userId3 = np.argwhere(RR_ranks==1).item(2)\n",
    "\n",
    "for i in range(-5,0):\n",
    "  user1.append(np.argsort(imodel_3.predict(highestRR_userId1)).item(-(6+i))) # item indices score from biggest to smallest\n",
    "  user2.append(np.argsort(imodel_3.predict(highestRR_userId2)).item(-(6+i)))\n",
    "  user3.append(np.argsort(imodel_3.predict(highestRR_userId3)).item(-(6+i)))\n",
    "\n",
    "print(\"Top 5 items for user %d:\" % (highestRR_userId1))\n",
    "print(user1)\n",
    "print(\"Top 5 items for user %d:\" % (highestRR_userId2))\n",
    "print(user2)\n",
    "print(\"Top 5 items for user %d:\" % (highestRR_userId3))\n",
    "print(user3)\n",
    "\n",
    "# print(imodel._net.item_embeddings(torch.tensor([23])).detach().numpy().flatten().shape)\n",
    "\n",
    "distance1 = 0\n",
    "distance2 = 0\n",
    "distance3 = 0\n",
    "for i in range(5):\n",
    "  for j in range(i,5):\n",
    "    if i == j:\n",
    "      continue\n",
    "    else:\n",
    "      # sum similarity between all possiable pairs \n",
    "      d1 = cos_sim(imodel_3._net.item_embeddings(torch.tensor([user1[i]])),imodel_3._net.item_embeddings(torch.tensor([user1[j]])))\n",
    "      distance1 += d1\n",
    "      d2 = cos_sim(imodel_3._net.item_embeddings(torch.tensor([user2[i]])),imodel_3._net.item_embeddings(torch.tensor([user2[j]])))\n",
    "      distance2 += d2\n",
    "      d3 = cos_sim(imodel_3._net.item_embeddings(torch.tensor([user3[i]])),imodel_3._net.item_embeddings(torch.tensor([user3[j]])))\n",
    "      distance3 += d3\n",
    "  \n",
    "print(\"Intra-list diversity for user%d's 5 recommandation items: %.4f\" % (highestRR_userId1, (2/(5*4))*(1-distance1)))\n",
    "print(\"Intra-list diversity for user%d's 5 recommandation items: %.4f\" % (highestRR_userId2, (2/(5*4))*(1-distance2)))\n",
    "print(\"Intra-list diversity for user%d's 5 recommandation items: %.4f\" % (highestRR_userId3, (2/(5*4))*(1-distance3)))"
   ]
  },
  {
   "cell_type": "markdown",
   "metadata": {
    "colab_type": "text",
    "id": "9GXv9_3DKweI"
   },
   "source": [
    "#Q4"
   ]
  },
  {
   "cell_type": "code",
   "execution_count": 0,
   "metadata": {
    "colab": {
     "base_uri": "https://localhost:8080/",
     "height": 34
    },
    "colab_type": "code",
    "id": "JT-sx2nAKy1k",
    "outputId": "64d24ca5-fc91-46cf-e1f8-efd1ff67e78e"
   },
   "outputs": [
    {
     "name": "stdout",
     "output_type": "stream",
     "text": [
      "1507 users' ranks are improved.\n"
     ]
    }
   ],
   "source": [
    "import matplotlib.pyplot as plt\n",
    "\n",
    "RRs_0 = mrr_score(imodel_0, test_dataset)\n",
    "RRs = mrr_score(imodel_3, test_dataset)\n",
    "combined_RRs = RRs_0 + RRs\n",
    "combined_RR_ranks = st.rankdata(-combined_RRs, method=\"min\")\n",
    "\n",
    "k = 0\n",
    "# model in Q3 is better, so compare the combined_model with Q3 model\n",
    "for i in range(len(combined_RR_ranks)):\n",
    "  if combined_RR_ranks[i] > RR_ranks[i]:\n",
    "    # count how many users' RR ranks are imporved\n",
    "    k += 1\n",
    "\n",
    "print(\"%d users' ranks are improved.\" % k)\n"
   ]
  },
  {
   "cell_type": "code",
   "execution_count": 0,
   "metadata": {
    "colab": {
     "base_uri": "https://localhost:8080/",
     "height": 34
    },
    "colab_type": "code",
    "id": "urMshXoeb_2_",
    "outputId": "89f3c3c7-a6a2-403e-f427-3f70e75dfa70"
   },
   "outputs": [
    {
     "name": "stdout",
     "output_type": "stream",
     "text": [
      "MRR Score for this CombSum model: 0.3962231115557779\n"
     ]
    }
   ],
   "source": [
    "class CombSummodel:\n",
    "  \n",
    "  def __init__(self, numitems):\n",
    "    self.num = numitems\n",
    "\n",
    "  def predict(self, uid):\n",
    "    # combine the output of two models, which are lists of score\n",
    "    self.combsum_temp = (imodel_0.predict(uid) + imodel_3.predict(uid)) \n",
    "    self.combsum_prediction = self.combsum_temp\n",
    "    return( self.combsum_prediction )\n",
    "\n",
    "print(\"MRR Score for this CombSum model:\",mrr_score(CombSummodel(num_items), test_dataset, train=rating_dataset).mean())"
   ]
  },
  {
   "cell_type": "code",
   "execution_count": 159,
   "metadata": {
    "colab": {
     "base_uri": "https://localhost:8080/",
     "height": 729
    },
    "colab_type": "code",
    "id": "a-F8CMFqSMP8",
    "outputId": "545fcbd2-8159-43f8-df0d-ec77df752267"
   },
   "outputs": [
    {
     "data": {
      "image/png": "iVBORw0KGgoAAAANSUhEUgAAAjgAAALICAYAAABy54rvAAAABHNCSVQICAgIfAhkiAAAAAlwSFlz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\nD7xuGEFLGi/W4EgaNxcBH0lyNN1TtaF7Ps3xSS4EvgBsDezRxp1
